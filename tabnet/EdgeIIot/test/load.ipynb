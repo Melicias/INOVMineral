{
 "cells": [
  {
   "cell_type": "code",
   "execution_count": 1,
   "metadata": {},
   "outputs": [],
   "source": [
    "#!pip install pytorch-tabnet wget\n",
    "from pytorch_tabnet.tab_model import TabNetClassifier\n",
    "import torch\n",
    "from sklearn.preprocessing import LabelEncoder\n",
    "from sklearn.metrics import accuracy_score\n",
    "from sklearn.metrics import precision_score\n",
    "from sklearn.metrics import recall_score\n",
    "from sklearn.metrics import roc_auc_score\n",
    "from sklearn.metrics import f1_score\n",
    "from sklearn.metrics import classification_report\n",
    "from sklearn.metrics import balanced_accuracy_score\n",
    "from sklearn.model_selection import train_test_split\n",
    "from sklearn.preprocessing import OneHotEncoder\n",
    "from sklearn.preprocessing import StandardScaler\n",
    "from imblearn.over_sampling import SMOTE\n",
    "from sklearn.utils import shuffle\n",
    "from sklearn.tree import export_graphviz\n",
    "from sklearn import metrics\n",
    "from sklearn import tree\n",
    "from xgboost import plot_tree\n",
    "import pandas as pd\n",
    "import numpy as np\n",
    "import os\n",
    "import wget\n",
    "from pathlib import Path\n",
    "import shutil\n",
    "import gzip\n",
    "import joblib\n",
    "import pydot\n",
    "from matplotlib import pyplot as plt\n",
    "\n",
    "random_state=42\n",
    "np.random.seed(random_state)"
   ]
  },
  {
   "cell_type": "code",
   "execution_count": 11,
   "metadata": {},
   "outputs": [],
   "source": [
    "#Display information about dataframe\n",
    "def displayInformationDataFrame(df_cop):\n",
    "    summary_df = pd.DataFrame(columns=['Data Type', 'Column Name', 'Unique Values'])\n",
    "    # Iterate through the columns of the original dataframe\n",
    "    for col in df_cop.columns:\n",
    "        # Get the data type of the column\n",
    "        dtype = df_cop[col].dtype\n",
    "        # Get the column name\n",
    "        col_name = col\n",
    "        # Get the unique values of the column\n",
    "        unique_values = df_cop[col].unique()\n",
    "        # Append a new row to the summary dataframe\n",
    "        summary_df = summary_df.append({'Data Type': dtype, 'Column Name': col_name, 'Unique Values': unique_values}, ignore_index=True)\n",
    "    # display the summary_df\n",
    "    pd.options.display.max_rows = None\n",
    "    pd.options.display.max_columns = None\n",
    "    #return display(summary_df)\n",
    "\n",
    "def calcula_metricas(nome_modelo, ground_truth, predicao):\n",
    "  \"\"\"\n",
    "    Funcão Auxiliar para calcular e imprimir métricas: Tx de Acerto, F1, \n",
    "    Precisão, Sensibilidade e AUC\n",
    "  \"\"\"\n",
    "  acc = accuracy_score(y_true = ground_truth, y_pred = predicao)\n",
    "  f1 = f1_score(y_true = ground_truth, y_pred = predicao,average='weighted')\n",
    "  precision = precision_score(y_true = ground_truth, y_pred = predicao,average='weighted')\n",
    "  recall = recall_score(y_true = ground_truth, y_pred = predicao,average='weighted')\n",
    "  #auc_sklearn = roc_auc_score(y_true = ground_truth, y_score = predicao, multi_class='ovr')\n",
    "\n",
    "  print(f\"Desempenho {nome_modelo} - Conjunto de Teste\")\n",
    "  print(f' Taxa de Acerto: {np.round(acc*100,2)}%\\n Precisão: {np.round(precision*100,2)}%')\n",
    "  print(f' Sensibilidade: {np.round(recall*100,2)}%\\n Medida F1: {np.round(f1*100,2)}%')"
   ]
  },
  {
   "cell_type": "code",
   "execution_count": 12,
   "metadata": {},
   "outputs": [
    {
     "name": "stdout",
     "output_type": "stream",
     "text": [
      "http.request.method\n",
      "http.referer\n",
      "http.request.version\n",
      "dns.qry.name.len\n",
      "mqtt.conack.flags\n",
      "mqtt.protoname\n",
      "mqtt.topic\n"
     ]
    },
    {
     "data": {
      "text/plain": [
       "LabelEncoder()"
      ]
     },
     "execution_count": 12,
     "metadata": {},
     "output_type": "execute_result"
    }
   ],
   "source": [
    "df = pd.read_csv('../../../data/DNN-EdgeIIoT-dataset.csv', low_memory=False)\n",
    "drop_columns = [\"frame.time\", \"ip.src_host\", \"ip.dst_host\", \"arp.src.proto_ipv4\",\"arp.dst.proto_ipv4\", \n",
    "         \"http.file_data\",\"http.request.full_uri\",\"icmp.transmit_timestamp\",\n",
    "         \"http.request.uri.query\", \"tcp.options\",\"tcp.payload\",\"tcp.srcport\",\n",
    "         \"tcp.dstport\", \"udp.port\", \"mqtt.msg\"]\n",
    "\n",
    "df.drop(drop_columns, axis=1, inplace=True)\n",
    "df.dropna(axis=0, how='any', inplace=True)\n",
    "df.drop_duplicates(subset=None, keep=\"first\", inplace=True)\n",
    "df = shuffle(df)\n",
    "\n",
    "categorical_columns = []\n",
    "for col in df.columns[df.dtypes == object]:\n",
    "    if col != \"Attack_type\":\n",
    "        categorical_columns.append(col)\n",
    "\n",
    "featuresFromStart = [ col for col in df.columns if col not in [\"Attack_label\"]+[\"Attack_type\"]]\n",
    "#print(\"-----Features from the start-----\")\n",
    "#print(featuresFromStart)\n",
    "#print(\"-----Categorial features-----\")\n",
    "#print(categorical_columns)\n",
    "    \n",
    "displayInformationDataFrame(df)\n",
    "\n",
    "colunas_one_hot = {}\n",
    "for coluna in categorical_columns:\n",
    "    codes, uniques = pd.factorize(df[coluna].unique())\n",
    "    colunas_one_hot[coluna] = {\"uniques\": uniques, \"codes\":codes}\n",
    "    df[coluna] = df[coluna].replace(colunas_one_hot[coluna][\"uniques\"], colunas_one_hot[coluna][\"codes\"])\n",
    "    print(coluna)\n",
    "df = pd.get_dummies(data=df, columns=categorical_columns)\n",
    "displayInformationDataFrame(df)\n",
    "\n",
    "df = shuffle(df)\n",
    "n_total = len(df)\n",
    "\n",
    "features = [ col for col in df.columns if col not in [\"Attack_label\"]+[\"Attack_type\"]] \n",
    "\n",
    "le = LabelEncoder()\n",
    "le.fit(df[\"Attack_type\"].values)"
   ]
  },
  {
   "cell_type": "code",
   "execution_count": 13,
   "metadata": {},
   "outputs": [],
   "source": [
    "train_val_indices, test_indices = train_test_split(range(n_total), test_size=0.2, random_state=random_state)\n",
    "#train_indices, valid_indices = train_test_split(train_val_indices, test_size=0.25, random_state=random_state) # 0.25 x 0.8 = 0.2\n",
    "\n",
    "X_train = df[features].values[train_val_indices]\n",
    "y_train = df[\"Attack_type\"].values[train_val_indices]\n",
    "y_train = le.transform(y_train)\n",
    "\n",
    "#X_valid = df[features].values[valid_indices]\n",
    "#y_valid = df[\"Attack_type\"].values[valid_indices]\n",
    "#y_valid = le.transform(y_valid)\n",
    "\n",
    "X_test = df[features].values[test_indices]\n",
    "y_test = df[\"Attack_type\"].values[test_indices]\n",
    "y_test = le.transform(y_test)\n",
    "\n",
    "standScaler = StandardScaler()\n",
    "model_norm = standScaler.fit(X_train)\n",
    "\n",
    "X_train = model_norm.transform(X_train)\n",
    "X_test = model_norm.transform(X_test)"
   ]
  },
  {
   "cell_type": "code",
   "execution_count": null,
   "metadata": {},
   "outputs": [],
   "source": []
  },
  {
   "cell_type": "code",
   "execution_count": 2,
   "metadata": {},
   "outputs": [
    {
     "name": "stderr",
     "output_type": "stream",
     "text": [
      "/Users/melicias/.local/lib/python3.7/site-packages/pytorch_tabnet/abstract_model.py:75: UserWarning: Device used : cpu\n",
      "  warnings.warn(f\"Device used : {self.device}\")\n"
     ]
    }
   ],
   "source": [
    "clf = TabNetClassifier(\n",
    "    n_d=64, n_a=64, n_steps=5,\n",
    "    gamma=1.5, n_independent=2, n_shared=2,\n",
    "    cat_idxs=[],\n",
    "    cat_dims=[],\n",
    "    cat_emb_dim=1,\n",
    "    lambda_sparse=1e-4, momentum=0.3, clip_value=2.,\n",
    "    optimizer_fn=torch.optim.Adam,\n",
    "    optimizer_params=dict(lr=2e-2),\n",
    "    scheduler_params = {\"gamma\": 0.95, \"step_size\": 20},\n",
    "    scheduler_fn=torch.optim.lr_scheduler.StepLR, epsilon=1e-15\n",
    ")\n",
    "clf = clf.load_model(\"./modelTabNet.zip\")"
   ]
  },
  {
   "cell_type": "code",
   "execution_count": 3,
   "metadata": {},
   "outputs": [
    {
     "ename": "AttributeError",
     "evalue": "'NoneType' object has no attribute 'feature_importances_'",
     "output_type": "error",
     "traceback": [
      "\u001b[0;31m---------------------------------------------------------------------------\u001b[0m",
      "\u001b[0;31mAttributeError\u001b[0m                            Traceback (most recent call last)",
      "\u001b[0;32m/var/folders/d_/jhkdvwcs203dngzv6h1j8c080000gn/T/ipykernel_54410/4008842831.py\u001b[0m in \u001b[0;36m<module>\u001b[0;34m\u001b[0m\n\u001b[0;32m----> 1\u001b[0;31m \u001b[0mclf\u001b[0m\u001b[0;34m.\u001b[0m\u001b[0mfeature_importances_\u001b[0m\u001b[0;34m\u001b[0m\u001b[0;34m\u001b[0m\u001b[0m\n\u001b[0m",
      "\u001b[0;31mAttributeError\u001b[0m: 'NoneType' object has no attribute 'feature_importances_'"
     ]
    }
   ],
   "source": [
    "clf.feature_importances_"
   ]
  },
  {
   "cell_type": "code",
   "execution_count": 21,
   "metadata": {},
   "outputs": [
    {
     "data": {
      "text/plain": [
       "[('mqtt.topic_0', 0.4946),\n",
       " ('udp.stream', 0.1192),\n",
       " ('tcp.ack', 0.1044),\n",
       " ('icmp.seq_le', 0.0728),\n",
       " ('http.referer_1', 0.0496),\n",
       " ('http.request.method_1', 0.045),\n",
       " ('tcp.ack_raw', 0.0319),\n",
       " ('tcp.seq', 0.0277),\n",
       " ('tcp.connection.rst', 0.0262),\n",
       " ('tcp.len', 0.0082),\n",
       " ('http.content_length', 0.0032),\n",
       " ('http.request.version_0', 0.0028),\n",
       " ('http.request.version_2', 0.0028),\n",
       " ('tcp.connection.syn', 0.0025),\n",
       " ('tcp.flags', 0.0024),\n",
       " ('http.request.version_3', 0.0019),\n",
       " ('tcp.connection.fin', 0.0014),\n",
       " ('tcp.connection.synack', 0.001),\n",
       " ('tcp.checksum', 0.0009),\n",
       " ('http.request.method_0', 0.0007),\n",
       " ('tcp.flags.ack', 0.0004),\n",
       " ('http.request.version_1', 0.0004),\n",
       " ('arp.opcode', 0.0),\n",
       " ('arp.hw.size', 0.0),\n",
       " ('icmp.checksum', 0.0),\n",
       " ('icmp.unused', 0.0),\n",
       " ('http.response', 0.0),\n",
       " ('http.tls_port', 0.0),\n",
       " ('udp.time_delta', 0.0),\n",
       " ('dns.qry.name', 0.0),\n",
       " ('dns.qry.qu', 0.0),\n",
       " ('dns.qry.type', 0.0),\n",
       " ('dns.retransmission', 0.0),\n",
       " ('dns.retransmit_request', 0.0),\n",
       " ('dns.retransmit_request_in', 0.0),\n",
       " ('mqtt.conflag.cleansess', 0.0),\n",
       " ('mqtt.conflags', 0.0),\n",
       " ('mqtt.hdrflags', 0.0),\n",
       " ('mqtt.len', 0.0),\n",
       " ('mqtt.msg_decoded_as', 0.0),\n",
       " ('mqtt.msgtype', 0.0),\n",
       " ('mqtt.proto_len', 0.0),\n",
       " ('mqtt.topic_len', 0.0),\n",
       " ('mqtt.ver', 0.0),\n",
       " ('mbtcp.len', 0.0),\n",
       " ('mbtcp.trans_id', 0.0),\n",
       " ('mbtcp.unit_id', 0.0),\n",
       " ('http.request.method_2', 0.0),\n",
       " ('http.request.method_3', 0.0),\n",
       " ('http.request.method_4', 0.0),\n",
       " ('http.request.method_5', 0.0),\n",
       " ('http.request.method_6', 0.0),\n",
       " ('http.request.method_7', 0.0),\n",
       " ('http.request.method_8', 0.0),\n",
       " ('http.referer_0', 0.0),\n",
       " ('http.referer_2', 0.0),\n",
       " ('http.referer_3', 0.0),\n",
       " ('http.referer_4', 0.0),\n",
       " ('http.request.version_4', 0.0),\n",
       " ('http.request.version_5', 0.0),\n",
       " ('http.request.version_6', 0.0),\n",
       " ('http.request.version_7', 0.0),\n",
       " ('http.request.version_8', 0.0),\n",
       " ('http.request.version_9', 0.0),\n",
       " ('http.request.version_10', 0.0),\n",
       " ('http.request.version_11', 0.0),\n",
       " ('http.request.version_12', 0.0),\n",
       " ('dns.qry.name.len_0', 0.0),\n",
       " ('dns.qry.name.len_1', 0.0),\n",
       " ('dns.qry.name.len_2', 0.0),\n",
       " ('dns.qry.name.len_3', 0.0),\n",
       " ('dns.qry.name.len_4', 0.0),\n",
       " ('dns.qry.name.len_5', 0.0),\n",
       " ('dns.qry.name.len_6', 0.0),\n",
       " ('dns.qry.name.len_7', 0.0),\n",
       " ('dns.qry.name.len_8', 0.0),\n",
       " ('dns.qry.name.len_9', 0.0),\n",
       " ('mqtt.conack.flags_0', 0.0),\n",
       " ('mqtt.conack.flags_1', 0.0),\n",
       " ('mqtt.conack.flags_2', 0.0),\n",
       " ('mqtt.conack.flags_3', 0.0),\n",
       " ('mqtt.conack.flags_4', 0.0),\n",
       " ('mqtt.conack.flags_5', 0.0),\n",
       " ('mqtt.conack.flags_6', 0.0),\n",
       " ('mqtt.conack.flags_7', 0.0),\n",
       " ('mqtt.conack.flags_8', 0.0),\n",
       " ('mqtt.conack.flags_9', 0.0),\n",
       " ('mqtt.conack.flags_10', 0.0),\n",
       " ('mqtt.conack.flags_11', 0.0),\n",
       " ('mqtt.conack.flags_12', 0.0),\n",
       " ('mqtt.protoname_0', 0.0),\n",
       " ('mqtt.protoname_1', 0.0),\n",
       " ('mqtt.protoname_2', 0.0),\n",
       " ('mqtt.topic_1', 0.0),\n",
       " ('mqtt.topic_2', 0.0)]"
      ]
     },
     "execution_count": 21,
     "metadata": {},
     "output_type": "execute_result"
    }
   ],
   "source": [
    "def sortSecond(val):\n",
    "\treturn val[1]\n",
    "values = clf.feature_importances_\n",
    "original_labels_list = le.classes_\n",
    "importances = [(features[i], np.round(values[i],4)) for i in range(len(features))]\n",
    "importances.sort(reverse=True, key=sortSecond)\n",
    "importances"
   ]
  }
 ],
 "metadata": {
  "kernelspec": {
   "display_name": "tabnet",
   "language": "python",
   "name": "python3"
  },
  "language_info": {
   "codemirror_mode": {
    "name": "ipython",
    "version": 3
   },
   "file_extension": ".py",
   "mimetype": "text/x-python",
   "name": "python",
   "nbconvert_exporter": "python",
   "pygments_lexer": "ipython3",
   "version": "3.7.15"
  },
  "orig_nbformat": 4,
  "vscode": {
   "interpreter": {
    "hash": "403cae82c009a3fa8c7225ee8c7440f13d443f49c1cbc18ad9299b24ad5472fd"
   }
  }
 },
 "nbformat": 4,
 "nbformat_minor": 2
}
