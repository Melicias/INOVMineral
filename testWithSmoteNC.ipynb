{
 "cells": [
  {
   "attachments": {},
   "cell_type": "markdown",
   "metadata": {},
   "source": [
    "## imports"
   ]
  },
  {
   "cell_type": "code",
   "execution_count": 6,
   "metadata": {},
   "outputs": [],
   "source": [
    "#!pip install pytorch-tabnet wget\n",
    "from pytorch_tabnet.tab_model import TabNetClassifier\n",
    "import torch\n",
    "from sklearn.preprocessing import LabelEncoder\n",
    "from sklearn.metrics import accuracy_score\n",
    "from sklearn.metrics import precision_score\n",
    "from sklearn.metrics import recall_score\n",
    "from sklearn.metrics import roc_auc_score\n",
    "from sklearn.metrics import f1_score\n",
    "from sklearn.metrics import classification_report\n",
    "from sklearn.metrics import balanced_accuracy_score\n",
    "from sklearn.model_selection import train_test_split\n",
    "from sklearn.preprocessing import OneHotEncoder\n",
    "from sklearn.preprocessing import StandardScaler\n",
    "from imblearn.over_sampling import SMOTE\n",
    "from imblearn.over_sampling import SMOTENC\n",
    "from sklearn.utils import shuffle\n",
    "from sklearn.tree import export_graphviz\n",
    "from sklearn import metrics\n",
    "from sklearn import tree\n",
    "from xgboost import plot_tree\n",
    "import pandas as pd\n",
    "import numpy as np\n",
    "import os\n",
    "import wget\n",
    "from pathlib import Path\n",
    "import shutil\n",
    "import gzip\n",
    "import joblib\n",
    "import pydot\n",
    "\n",
    "random_state=42\n",
    "np.random.seed(random_state)\n",
    "\n",
    "from matplotlib import pyplot as plt\n",
    "#%matplotlib inline\n",
    "\n",
    "\n",
    "#Display information about dataframe\n",
    "def displayInformationDataFrame(df_cop):\n",
    "    summary_df = pd.DataFrame(columns=['Data Type', 'Column Name', 'Unique Values'])\n",
    "    # Iterate through the columns of the original dataframe\n",
    "    for col in df_cop.columns:\n",
    "        # Get the data type of the column\n",
    "        dtype = df_cop[col].dtype\n",
    "        # Get the column name\n",
    "        col_name = col\n",
    "        # Get the unique values of the column\n",
    "        unique_values = df_cop[col].unique()\n",
    "        # Append a new row to the summary dataframe\n",
    "        summary_df = summary_df.append({'Data Type': dtype, 'Column Name': col_name, 'Unique Values': unique_values}, ignore_index=True)\n",
    "    # display the summary_df\n",
    "    pd.options.display.max_rows = None\n",
    "    pd.options.display.max_columns = None\n",
    "    #return display(summary_df)\n",
    "\n",
    "def calcula_metricas(nome_modelo, ground_truth, predicao):\n",
    "  \"\"\"\n",
    "    Funcão Auxiliar para calcular e imprimir métricas: Tx de Acerto, F1, \n",
    "    Precisão, Sensibilidade e AUC\n",
    "  \"\"\"\n",
    "  acc = accuracy_score(y_true = ground_truth, y_pred = predicao)\n",
    "  f1 = f1_score(y_true = ground_truth, y_pred = predicao,average='weighted')\n",
    "  precision = precision_score(y_true = ground_truth, y_pred = predicao,average='weighted')\n",
    "  recall = recall_score(y_true = ground_truth, y_pred = predicao,average='weighted')\n",
    "  #auc_sklearn = roc_auc_score(y_true = ground_truth, y_score = predicao, multi_class='ovr')\n",
    "\n",
    "  print(f\"Desempenho {nome_modelo} - Conjunto de Teste\")\n",
    "  print(f' Taxa de Acerto: {np.round(acc*100,2)}%\\n Precisão: {np.round(precision*100,2)}%')\n",
    "  print(f' Sensibilidade: {np.round(recall*100,2)}%\\n Medida F1: {np.round(f1*100,2)}%')\n",
    "  #print(f' Área sob a Curva: {np.round(auc_sklearn*100,2)}%')"
   ]
  },
  {
   "cell_type": "code",
   "execution_count": 7,
   "metadata": {},
   "outputs": [
    {
     "name": "stdout",
     "output_type": "stream",
     "text": [
      "http.request.method\n",
      "http.referer\n",
      "http.request.version\n",
      "dns.qry.name.len\n",
      "mqtt.conack.flags\n",
      "mqtt.protoname\n",
      "mqtt.topic\n"
     ]
    }
   ],
   "source": [
    "df = pd.read_csv('./data/DNN-EdgeIIoT-dataset_SMALL.csv', low_memory=False)\n",
    "drop_columns = [\"frame.time\", \"ip.src_host\", \"ip.dst_host\", \"arp.src.proto_ipv4\",\"arp.dst.proto_ipv4\", \n",
    "         \"http.file_data\",\"http.request.full_uri\",\"icmp.transmit_timestamp\",\n",
    "         \"http.request.uri.query\", \"tcp.options\",\"tcp.payload\",\"tcp.srcport\",\n",
    "         \"tcp.dstport\", \"udp.port\", \"mqtt.msg\"]\n",
    "\n",
    "df.drop(drop_columns, axis=1, inplace=True)\n",
    "df.dropna(axis=0, how='any', inplace=True)\n",
    "df.drop_duplicates(subset=None, keep=\"first\", inplace=True)\n",
    "df = shuffle(df)\n",
    "\n",
    "categorical_columns = []\n",
    "for col in df.columns[df.dtypes == object]:\n",
    "    if col != \"Attack_type\":\n",
    "        categorical_columns.append(col)\n",
    "\n",
    "featuresFromStart = [ col for col in df.columns if col not in [\"Attack_label\"]+[\"Attack_type\"]]\n",
    "    \n",
    "displayInformationDataFrame(df)\n",
    "\n",
    "colunas_one_hot = {}\n",
    "for coluna in categorical_columns:\n",
    "    codes, uniques = pd.factorize(df[coluna].unique())\n",
    "    colunas_one_hot[coluna] = {\"uniques\": uniques, \"codes\":codes}\n",
    "    df[coluna] = df[coluna].replace(colunas_one_hot[coluna][\"uniques\"], colunas_one_hot[coluna][\"codes\"])\n",
    "    print(coluna)\n",
    "#df = pd.get_dummies(data=df, columns=categorical_columns)\n",
    "displayInformationDataFrame(df)"
   ]
  },
  {
   "cell_type": "code",
   "execution_count": 8,
   "metadata": {},
   "outputs": [
    {
     "name": "stdout",
     "output_type": "stream",
     "text": [
      "13893\n",
      "998\n",
      "998\n"
     ]
    }
   ],
   "source": [
    "#for the SMOTE part, so it can fit in 16gb of RAM\n",
    "df_before = df\n",
    "df_attacks = df[df[\"Attack_type\"] != \"Normal\"]\n",
    "\n",
    "print(len(df))\n",
    "df_normal = df[df[\"Attack_type\"] == \"Normal\"]\n",
    "print(len(df_normal))\n",
    "df_normal = shuffle(df_normal)\n",
    "df_normal = df_normal[:250000]\n",
    "#df_normal.head(len(df) - 800000)\n",
    "#df_normal.drop(df_normal.loc[0:800000].index, inplace=True)\n",
    "print(len(df_normal))\n",
    "df = pd.concat([df_attacks,df_normal])"
   ]
  },
  {
   "cell_type": "code",
   "execution_count": 9,
   "metadata": {},
   "outputs": [],
   "source": [
    "df = shuffle(df)\n",
    "n_total = len(df)\n",
    "\n",
    "features = [ col for col in df.columns if col not in [\"Attack_label\"]+[\"Attack_type\"]] \n",
    "\n",
    "le = LabelEncoder()\n",
    "le.fit(df[\"Attack_type\"].values)\n",
    "\n",
    "train_val_indices, test_indices = train_test_split(range(n_total), test_size=0.2, random_state=random_state)\n",
    "#train_indices, valid_indices = train_test_split(train_val_indices, test_size=0.25, random_state=random_state) # 0.25 x 0.8 = 0.2\n",
    "\n",
    "X_train = df[features].values[train_val_indices]\n",
    "y_train = df[\"Attack_type\"].values[train_val_indices]\n",
    "y_train = le.transform(y_train)\n",
    "\n",
    "X_test = df[features].values[test_indices]\n",
    "y_test = df[\"Attack_type\"].values[test_indices]\n",
    "y_test = le.transform(y_test)\n",
    "\n",
    "standScaler = StandardScaler()\n",
    "model_norm = standScaler.fit(X_train)\n",
    "\n",
    "X_train = model_norm.transform(X_train)\n",
    "X_test = model_norm.transform(X_test)"
   ]
  },
  {
   "cell_type": "code",
   "execution_count": 13,
   "metadata": {},
   "outputs": [
    {
     "name": "stdout",
     "output_type": "stream",
     "text": [
      "['http.request.method', 'http.referer', 'http.request.version', 'dns.qry.name.len', 'mqtt.conack.flags', 'mqtt.protoname', 'mqtt.topic']\n",
      "['http.request.method', 'http.referer', 'http.request.version', 'dns.qry.name.len', 'mqtt.conack.flags', 'mqtt.protoname', 'mqtt.topic']\n",
      "[6, 7, 8, 25, 31, 39, 40]\n"
     ]
    }
   ],
   "source": [
    "categorical_columns_index = []\n",
    "for fe in categorical_columns:\n",
    "    categorical_columns_index.append(features.index(fe))\n",
    "\n",
    "print(categorical_columns)\n",
    "print(categorical_columns_index)"
   ]
  },
  {
   "cell_type": "code",
   "execution_count": 14,
   "metadata": {},
   "outputs": [],
   "source": [
    "sm = SMOTENC(random_state=42, categorical_features=categorical_columns_index)\n",
    "X_res, y_res = sm.fit_resample(X_train, y_train)"
   ]
  },
  {
   "cell_type": "code",
   "execution_count": 28,
   "metadata": {},
   "outputs": [
    {
     "name": "stdout",
     "output_type": "stream",
     "text": [
      "[-1.19214877 -1.1808437  -1.17846601 ... 19.94480476 19.94531253\n",
      " 20.06152649]\n"
     ]
    }
   ],
   "source": [
    "print(len(X_train),len(X_res))\n",
    "diff = np.setdiff1d(X_res, X_train, assume_unique=False)\n",
    "\n",
    "print(len(diff))"
   ]
  }
 ],
 "metadata": {
  "kernelspec": {
   "display_name": "tabnet",
   "language": "python",
   "name": "python3"
  },
  "language_info": {
   "codemirror_mode": {
    "name": "ipython",
    "version": 3
   },
   "file_extension": ".py",
   "mimetype": "text/x-python",
   "name": "python",
   "nbconvert_exporter": "python",
   "pygments_lexer": "ipython3",
   "version": "3.7.15"
  },
  "orig_nbformat": 4,
  "vscode": {
   "interpreter": {
    "hash": "403cae82c009a3fa8c7225ee8c7440f13d443f49c1cbc18ad9299b24ad5472fd"
   }
  }
 },
 "nbformat": 4,
 "nbformat_minor": 2
}
